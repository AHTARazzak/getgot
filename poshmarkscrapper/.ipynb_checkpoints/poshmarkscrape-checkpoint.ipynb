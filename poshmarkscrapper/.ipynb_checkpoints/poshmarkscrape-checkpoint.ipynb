{
 "cells": [
  {
   "cell_type": "code",
   "execution_count": 1,
   "metadata": {},
   "outputs": [],
   "source": [
    "from requests_html import HTMLSession\n",
    "import sys\n",
    "import urllib.request, urllib.error, urllib.parse\n",
    "import webbrowser\n",
    "from bs4 import BeautifulSoup\n",
    "import pyautogui\n",
    "import time\n",
    "from selenium import webdriver\n",
    "from selenium.webdriver.common.by import By\n",
    "from selenium.webdriver.support.expected_conditions import visibility_of_element_located\n",
    "from selenium.webdriver.support.ui import WebDriverWait\n",
    "import re\n",
    "import enchant\n",
    "import shutil\n",
    "import pandas as pd\n",
    "from statistics import mean \n",
    "import os\n",
    "from urllib.request import Request, urlopen\n",
    "import urllib.parse\n",
    "from collections import OrderedDict\n",
    "import names\n",
    "import random\n",
    "import csv\n",
    "from csv import writer"
   ]
  },
  {
   "cell_type": "code",
   "execution_count": 2,
   "metadata": {},
   "outputs": [
    {
     "data": {
      "text/plain": [
       "'/home/a/Desktop/poshmarkspider'"
      ]
     },
     "execution_count": 2,
     "metadata": {},
     "output_type": "execute_result"
    }
   ],
   "source": [
    "brands=['Rick Owens']\n",
    "owd=os.getcwd()\n",
    "owd"
   ]
  },
  {
   "cell_type": "code",
   "execution_count": 3,
   "metadata": {},
   "outputs": [],
   "source": [
    "def append_list_as_row(file_name, list_of_elem):\n",
    "    # Open file in append mode\n",
    "    with open(file_name, 'a+', newline='') as write_obj:\n",
    "        # Create a writer object from csv module\n",
    "        csv_writer = writer(write_obj)\n",
    "        # Add contents of list as last row in the csv file\n",
    "        csv_writer.writerow(list_of_elem)"
   ]
  },
  {
   "cell_type": "code",
   "execution_count": 46,
   "metadata": {},
   "outputs": [],
   "source": [
    "def checkpage(labels):\n",
    "    for brand in labels:\n",
    "        nextpage=1\n",
    "        for i in range(nextpage):\n",
    "            print(i)\n",
    "        directoryname=brand.replace(\" \",\"\")\n",
    "        labelcheck=brand.replace(\" \",\"-\")\n",
    "        os.chdir(owd)\n",
    "        if not os.path.exists(directoryname):\n",
    "            os.makedirs(directoryname)\n",
    "        os.chdir(directoryname)\n",
    "        if not os.path.exists(directoryname+\"catalogue.csv\"):\n",
    "            append_list_as_row(directoryname+\"catalogue.csv\",[\"Brand\", \"ItemCode\",\"URL\",\"Price\",\"Size\",\"Catagories\",\"Colour\"])\n",
    "        branddirect = brand.replace(\" \",\"%20\").lower()        \n",
    "        url=\"https://poshmark.com/search?query=\"+branddirect+\"&type=listings&max_id=\"+nextpage\n",
    "        user_agent = 'Mozilla/5.0 (Windows NT 6.1; Win64; x64)'\n",
    "        values = {'name' : names.get_full_name(),\n",
    "            'location' : 'Northampton',\n",
    "            'language' : 'Python' }\n",
    "        headers = { 'User-Agent' : user_agent }\n",
    "        data = urllib.parse.urlencode(values)\n",
    "        data = data.encode('ascii')\n",
    "        req = Request(url, headers=headers)\n",
    "        the_page = urlopen(req).read()\n",
    "        pageitemsoup = BeautifulSoup(the_page, 'lxml')\n",
    "        finalpage=pageitemsoup.findAll('button',attrs = {'class' : 'btn btn--pagination'})[-2]\n",
    "        lastpage=int(str(finalpage).split()[-2])+1\n",
    "        thepage=pageitemsoup.findAll('button',attrs = {'class' : 'btn btn--pagination bg--light-gray fw--med'})\n",
    "        inpage=int(str(thepage).split()[-2])\n",
    "        print(lastpage)\n",
    "        print(inpage)\n",
    "        if inpage!=lastpage:\n",
    "            nextpage+=1"
   ]
  },
  {
   "cell_type": "code",
   "execution_count": 47,
   "metadata": {},
   "outputs": [
    {
     "name": "stdout",
     "output_type": "stream",
     "text": [
      "6\n",
      "1\n"
     ]
    }
   ],
   "source": [
    "checkpage(brands)"
   ]
  },
  {
   "cell_type": "code",
   "execution_count": 49,
   "metadata": {},
   "outputs": [],
   "source": [
    "def getthebrand(labels):\n",
    "    for brand in labels:\n",
    "        nextpage=1\n",
    "        for i in range(nextpage):\n",
    "            print(i)\n",
    "            directoryname=brand.replace(\" \",\"\")\n",
    "            labelcheck=brand.replace(\" \",\"-\")\n",
    "            os.chdir(owd)\n",
    "            if not os.path.exists(directoryname):\n",
    "                os.makedirs(directoryname)\n",
    "            os.chdir(directoryname)\n",
    "            if not os.path.exists(directoryname+\"catalogue.csv\"):\n",
    "                append_list_as_row(directoryname+\"catalogue.csv\",[\"Brand\", \"ItemCode\",\"URL\",\"Price\",\"Size\",\"Catagories\",\"Colour\"])\n",
    "            branddirect = brand.replace(\" \",\"%20\").lower()        \n",
    "            url=\"https://poshmark.com/search?query=\"+branddirect+\"&type=listings&max_id=\"+nextpage\n",
    "            user_agent = 'Mozilla/5.0 (Windows NT 6.1; Win64; x64)'\n",
    "            values = {'name' : names.get_full_name(),\n",
    "                'location' : 'Northampton',\n",
    "                'language' : 'Python' }\n",
    "            headers = { 'User-Agent' : user_agent }\n",
    "            data = urllib.parse.urlencode(values)\n",
    "            data = data.encode('ascii')\n",
    "            req = Request(url, headers=headers)\n",
    "            the_page = urlopen(req).read()\n",
    "            pageitemsoup = BeautifulSoup(the_page, 'lxml')\n",
    "            finalpage=pageitemsoup.findAll('button',attrs = {'class' : 'btn btn--pagination'})[-2]\n",
    "            lastpage=int(str(finalpage).split()[-2])+1\n",
    "            thepage=pageitemsoup.findAll('button',attrs = {'class' : 'btn btn--pagination bg--light-gray fw--med'})\n",
    "            inpage=int(str(thepage).split()[-2])\n",
    "            theurls=[]\n",
    "            itemurls=[]\n",
    "            links=pageitemsoup.findAll('a',attrs = {'href' : True,'class' : True})\n",
    "            for link in links:\n",
    "                if '/listing/' in str(link['href']):\n",
    "                    theurls.append(link['href'])\n",
    "            for itemurl in theurls:\n",
    "                if (labelcheck in itemurl) or (labelcheck.upper() in itemurl):\n",
    "                    findurl='https://poshmark.com'+itemurl\n",
    "                    itemurls.append(findurl)\n",
    "            for item in itemurls:\n",
    "                #print(itemurls)\n",
    "                #item=itemurls[0]\n",
    "                spliturl=item.split(\"-\")\n",
    "                itemcode=spliturl[-1]\n",
    "                if not os.path.exists(itemcode):\n",
    "                    os.makedirs(itemcode)\n",
    "                    item_req = Request(item, headers=headers)\n",
    "                    item_page = urlopen(item_req).read()\n",
    "                    item_soup = BeautifulSoup(item_page, 'lxml')\n",
    "                    theprice=item_soup.findAll('h1')\n",
    "                    thepricetag=str(theprice[-1])\n",
    "                    thepriceis=(thepricetag.split()[1])\n",
    "                    catagories=item_soup.findAll('a',attrs = {'class' : \"btn btn--tag tag-details__btn\",'href' : True})[-1]\n",
    "                    catagoriesis=(str(catagories['href']).split(\"/\")[-1])\n",
    "                    colour=item_soup.findAll('a',attrs = {'data-et-prop-listing_color' : True,'href' : True})[0]\n",
    "                    colouris=(str(colour['data-et-prop-listing_color']))\n",
    "                    size=item_soup.findAll('button',attrs = {'class' : \"size-selector__size-option btn btn--tertiary tc--lb fw--bold br--burgundy\"})[0]\n",
    "                    splitsize=str(size).split()\n",
    "                    sizeis=splitsize[-2]\n",
    "                    #item_cata_dict = {'Brand': brand, 'ItemCode': itemcode, 'URL': item, 'Price': thepriceis, 'Size': sizeis, 'Catagories': catagoriesis, 'Colour': colouris}\n",
    "                    append_list_as_row(directoryname+\"catalogue.csv\",[brand, itemcode,item,thepriceis,sizeis,catagoriesis,colouris])\n",
    "                    carouselli=item_soup.findAll('li',attrs = {'class' : \"carousel__item carousel__item\",'style' : True})\n",
    "                    #print(item_soup)\n",
    "                    for element in carouselli:\n",
    "                        start=str(element).index(\"data-src\")+10\n",
    "                        end=str(element).index(\" src\")-1\n",
    "                        item_pic_url=(str(element)[start:end])\n",
    "                        finalimg=item_pic_url.split(\"/\")\n",
    "                        urllib.request.urlretrieve(str(item_pic_url), str(finalimg[-1]))\n",
    "                        shutil.move(os.getcwd()+'/'+finalimg[-1], os.getcwd()+'/'+itemcode+'/'+finalimg[-1])\n",
    "                        time.sleep(2)"
   ]
  },
  {
   "cell_type": "code",
   "execution_count": 7,
   "metadata": {},
   "outputs": [],
   "source": [
    "getthebrand(brands)"
   ]
  },
  {
   "cell_type": "code",
   "execution_count": null,
   "metadata": {},
   "outputs": [],
   "source": [
    "def collecturls(thepage):\n",
    "    theurls=[]\n",
    "    itemurls=[]\n",
    "    links=thepage.findAll('a',attrs = {'href' : True,'class' : True})\n",
    "    for link in links:\n",
    "        if '/listing/' in str(link['href']):\n",
    "            theurls.append(link['href'])\n",
    "    for itemurl in theurls:\n",
    "        if \n",
    "        findurl='https://poshmark.com'+itemurl\n",
    "        itemurls.append(findurl)\n",
    "    return itemurls"
   ]
  },
  {
   "cell_type": "code",
   "execution_count": null,
   "metadata": {},
   "outputs": [],
   "source": [
    "collecturls(pagesoup)"
   ]
  }
 ],
 "metadata": {
  "kernelspec": {
   "display_name": "Python 3",
   "language": "python",
   "name": "python3"
  },
  "language_info": {
   "codemirror_mode": {
    "name": "ipython",
    "version": 3
   },
   "file_extension": ".py",
   "mimetype": "text/x-python",
   "name": "python",
   "nbconvert_exporter": "python",
   "pygments_lexer": "ipython3",
   "version": "3.6.4"
  }
 },
 "nbformat": 4,
 "nbformat_minor": 4
}
